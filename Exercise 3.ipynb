{
 "cells": [
  {
   "cell_type": "markdown",
   "metadata": {},
   "source": [
    "# Exercise 3"
   ]
  },
  {
   "cell_type": "markdown",
   "metadata": {},
   "source": [
    "### Developing an application for examining the format of the films and,if necessary, convert them."
   ]
  },
  {
   "cell_type": "markdown",
   "metadata": {},
   "source": [
    "#### Install FFmpeg library"
   ]
  },
  {
   "cell_type": "markdown",
   "metadata": {},
   "source": [
    "As we already know, we have to download a static build of FFmpeg to the Coursera server, unzip it, and add the directory to the environment variable “PATH”."
   ]
  },
  {
   "cell_type": "code",
   "execution_count": 9,
   "metadata": {},
   "outputs": [
    {
     "name": "stdout",
     "output_type": "stream",
     "text": [
      "/usr/bin/ffmpeg\r\n"
     ]
    }
   ],
   "source": [
    "# Download latest FFmpeg static build.  \n",
    "exist = !which ffmpeg\n",
    "if not exist:\n",
    "  !curl https://johnvansickle.com/ffmpeg/releases/ffmpeg-release-amd64-static.tar.xz -o ffmpeg.tar.xz \\\n",
    "     && tar -xf ffmpeg.tar.xz && rm ffmpeg.tar.xz\n",
    "  ffmdir = !find . -iname ffmpeg-*-static\n",
    "  path = %env PATH\n",
    "  path = path + ':' + ffmdir[0]\n",
    "  %env PATH $path\n",
    "\n",
    "!which ffmpeg"
   ]
  },
  {
   "cell_type": "code",
   "execution_count": 21,
   "metadata": {},
   "outputs": [
    {
     "name": "stdout",
     "output_type": "stream",
     "text": [
      "\n",
      "**********************************************\n",
      "**   Video Format Checker And Re-Encoder    **\n",
      "**********************************************\n",
      "\n",
      "Checking: Cosmos_War_of_the_Planets.mp4\n",
      "\tVideo FPS invalid: 25 vs 30\n",
      "\tAspect ratio invalid: 16:9 vs 314:177\n",
      "\tVideo resolution invalid: 640x360 vs 628x354\n",
      "\tAudio bitrate invalid: 317 Kb/s is higher than 256 Kb/s\n",
      "\tRe-encoding...\n",
      "\n",
      "Checking: Last_man_on_earth_1964.mov\n",
      "\tVideo file extension invalid: .mp4 vs .mov\n",
      "\tVideo codec invalid: h264 vs prores\n",
      "\tAudio codec invalid: aac vs pcm\n",
      "\tVideo FPS invalid: 25 vs 24\n",
      "\tVideo bitrate invalid: 9.29 Mb/s is not in range of 2 - 5 Mb/s\n",
      "\tAudio bitrate invalid: 1536 Kb/s is higher than 256 Kb/s\n",
      "\tRe-encoding...\n",
      "\n",
      "Checking: The_Hill_Gang_Rides_Again.mp4\n",
      "\tVideo bitrate invalid: 7.54 Mb/s is not in range of 2 - 5 Mb/s\n",
      "\tRe-encoding...\n",
      "\n",
      "Checking: Voyage_to_the_Planet_of_Prehistoric_Women.mp4\n",
      "\tVideo codec invalid: h264 vs hevc\n",
      "\tAudio codec invalid: aac vs mp3\n",
      "\tVideo FPS invalid: 25 vs 30\n",
      "\tVideo bitrate invalid: 8.04 Mb/s is not in range of 2 - 5 Mb/s\n",
      "\tAudio bitrate invalid: 320 Kb/s is higher than 256 Kb/s\n",
      "\tRe-encoding...\n",
      "\n",
      "Checking: The_Gun_and_the_Pulpit.avi\n",
      "\tVideo file extension invalid: .mp4 vs .avi\n",
      "\tVideo codec invalid: h264 vs rawvideo\n",
      "\tAudio codec invalid: aac vs pcm\n",
      "\tAspect ratio invalid: 16:9 vs 0:1\n",
      "\tVideo resolution invalid: 640x360 vs 720x404\n",
      "\tVideo bitrate invalid: 87.44 Mb/s is not in range of 2 - 5 Mb/s\n",
      "\tAudio bitrate invalid: 1536 Kb/s is higher than 256 Kb/s\n",
      "\tAudio channels invalid: stereo vs unknown\n",
      "\tRe-encoding...\n",
      "\n"
     ]
    }
   ],
   "source": [
    "import os\n",
    "import sys\n",
    "import subprocess\n",
    "import re\n",
    "import datetime\n",
    "\n",
    "print()\n",
    "print('*' * 46)\n",
    "print('**   Video Format Checker And Re-Encoder    **')\n",
    "print('*' * 46)\n",
    "print()\n",
    "\n",
    "src_dir = 'Exercise3_Films/'\n",
    "out_dir = 'converted_Films/'\n",
    "\n",
    "if not os.path.exists(src_dir):\n",
    "    print('Specified source directory ({}) not exists. Program exited.'.format(src_dir))\n",
    "    sys.exit()\n",
    "elif not os.path.exists(out_dir):\n",
    "    print('Specified output directory ({}) not exists. Program exited.'.format(out_dir))\n",
    "    sys.exit()\n",
    "\n",
    "log_data = []\n",
    "\n",
    "def print_and_log(text):\n",
    "    log_data.append(text)\n",
    "    print(text)\n",
    "\n",
    "for src_vid in os.listdir(src_dir):\n",
    "    print_and_log('Checking: {}'.format(src_vid))\n",
    "    vid_exif_call = 'ffprobe -loglevel error -i \"{}/{}\" -show_streams'.format(src_dir, src_vid)\n",
    "    exif = subprocess.check_output(vid_exif_call, shell=True).decode('utf-8')\n",
    "    streams = re.findall('\\[STREAM\\](?:.|\\n)+?\\[/STREAM\\]', exif)\n",
    "    vid_exif, aud_exif = [eve for eve in streams if 'codec_type=video' in eve][0], [eve for eve in streams if 'codec_type=audio' in eve][0]\n",
    "\n",
    "    vid_ext = '.' + src_vid.rsplit('.', 1)[1].lower()\n",
    "\n",
    "    vid_codec = re.search('(?<=codec_name=)[A-Z-a-z0-9]+', vid_exif)\n",
    "    vid_codec = vid_exif[vid_codec.start():vid_codec.end()]\n",
    "    \n",
    "    aud_codec = re.search('(?<=codec_name=)[A-Z-a-z0-9]+', aud_exif)\n",
    "    aud_codec = aud_exif[aud_codec.start():aud_codec.end()]\n",
    "\n",
    "    vid_fps = re.search('(?<=r_frame_rate=)[A-Z-a-z0-9/]+', vid_exif)\n",
    "    vid_fps = int(round(eval(vid_exif[vid_fps.start():vid_fps.end()]), 1))\n",
    "\n",
    "    aspect_ratio = re.search('(?<=display_aspect_ratio=)[A-Za-z0-9:]+', vid_exif)\n",
    "    aspect_ratio = vid_exif[aspect_ratio.start():aspect_ratio.end()]\n",
    "\n",
    "    vid_width = re.search('(?<=width=)\\d+', vid_exif)\n",
    "    vid_width = vid_exif[vid_width.start():vid_width.end()]\n",
    "\n",
    "    vid_height = re.search('(?<=height=)\\d+', vid_exif)\n",
    "    vid_height = vid_exif[vid_height.start():vid_height.end()]\n",
    "    vid_res = '{}x{}'.format(vid_width, vid_height)\n",
    "\n",
    "    vid_bitrate = re.search('(?<=bit_rate=)\\d+', vid_exif)\n",
    "    vid_bitrate = int(vid_exif[vid_bitrate.start():vid_bitrate.end()])\n",
    "\n",
    "    aud_bitrate = re.search('(?<=bit_rate=)\\d+', aud_exif)\n",
    "    aud_bitrate = int(aud_exif[aud_bitrate.start():aud_bitrate.end()])\n",
    "\n",
    "    aud_channels = re.search('(?<=channel_layout=)[A-Z-a-z0-9]+', aud_exif)\n",
    "    aud_channels = aud_exif[aud_channels.start():aud_channels.end()]\n",
    "\n",
    "    re_encoding_need = False\n",
    "\n",
    "    if vid_ext != '.mp4':\n",
    "        print_and_log('\\tVideo file extension invalid: .mp4 vs {}'.format(vid_ext))\n",
    "        re_encoding_need = True\n",
    "        \n",
    "    if vid_codec != 'h264':\n",
    "        print_and_log('\\tVideo codec invalid: h264 vs {}'.format(vid_codec))\n",
    "        re_encoding_need = True\n",
    "        \n",
    "    if aud_codec != 'aac':\n",
    "        print_and_log('\\tAudio codec invalid: aac vs {}'.format(aud_codec))\n",
    "        re_encoding_need = True\n",
    "        \n",
    "    if vid_fps != 25:\n",
    "        print_and_log('\\tVideo FPS invalid: 25 vs {}'.format(vid_fps))\n",
    "        re_encoding_need = True\n",
    "        \n",
    "    if aspect_ratio != '16:9':\n",
    "        print_and_log('\\tAspect ratio invalid: 16:9 vs {}'.format(aspect_ratio))\n",
    "        re_encoding_need = True\n",
    "        \n",
    "    if vid_res != '640x360':\n",
    "        print_and_log('\\tVideo resolution invalid: 640x360 vs {}'.format(vid_res))\n",
    "        re_encoding_need = True\n",
    "        \n",
    "    if not 2000000 <= vid_bitrate <= 5000000:\n",
    "        print_and_log('\\tVideo bitrate invalid: {:.2f} Mb/s is not in range of 2 - 5 Mb/s'.format(float(vid_bitrate / 1000000)))\n",
    "        re_encoding_need = True\n",
    "        \n",
    "    if not aud_bitrate <= 256000:\n",
    "        print_and_log('\\tAudio bitrate invalid: {} Kb/s is higher than 256 Kb/s'.format(int(aud_bitrate / 1000)))\n",
    "        re_encoding_need = True\n",
    "        \n",
    "    if aud_channels != 'stereo':\n",
    "        print_and_log('\\tAudio channels invalid: stereo vs {}'.format(aud_channels))\n",
    "        re_encoding_need = True\n",
    "\n",
    "    if re_encoding_need:\n",
    "        print_and_log('\\tRe-encoding...')\n",
    "        re_encode_com = 'ffmpeg -y -loglevel error -i \"{}/{}\" -aspect 16:9 -filter:v fps=fps=25 -s 640x360 -ac 2 -codec:v h264 -codec:a aac -b:v 5M -b:a 256k \"{}/{}.mp4\"'.format(src_dir, src_vid, out_dir, src_vid.replace('.', '_formatOK.').rsplit('.', 1)[0])\n",
    "        subprocess.call(re_encode_com, shell=True)\n",
    "    else:\n",
    "        print_and_log('\\tFormat matched, no need to re-encode!')\n",
    "\n",
    "    print_and_log('')\n",
    "\n",
    "log_filename = datetime.datetime.now().strftime('report_%d%m%Y.txt')\n",
    "log_file_op = open(out_dir + '\\\\' + log_filename, encoding='utf-8', mode='w')\n",
    "log_file_op.write('\\n'.join(log_data))\n",
    "log_file_op.close()"
   ]
  },
  {
   "cell_type": "markdown",
   "metadata": {},
   "source": [
    "### Output"
   ]
  },
  {
   "cell_type": "markdown",
   "metadata": {},
   "source": [
    "#### The_Gun_and_the_Pulpit"
   ]
  },
  {
   "cell_type": "code",
   "execution_count": 18,
   "metadata": {},
   "outputs": [
    {
     "data": {
      "text/html": [
       "<video src=\"converted_Films/The_Gun_and_the_Pulpit_formatOK.mp4\" controls  >\n",
       "      Your browser does not support the <code>video</code> element.\n",
       "    </video>"
      ],
      "text/plain": [
       "<IPython.core.display.Video object>"
      ]
     },
     "execution_count": 18,
     "metadata": {},
     "output_type": "execute_result"
    }
   ],
   "source": [
    "from IPython.display import Video\n",
    "Video('converted_Films/The_Gun_and_the_Pulpit_formatOK.mp4')"
   ]
  },
  {
   "cell_type": "markdown",
   "metadata": {},
   "source": [
    "#### Cosmos_War_of_the_Planets"
   ]
  },
  {
   "cell_type": "code",
   "execution_count": 23,
   "metadata": {
    "scrolled": true
   },
   "outputs": [
    {
     "data": {
      "text/html": [
       "<video src=\"converted_Films/Cosmos_War_of_the_Planets_formatOK.mp4\" controls  >\n",
       "      Your browser does not support the <code>video</code> element.\n",
       "    </video>"
      ],
      "text/plain": [
       "<IPython.core.display.Video object>"
      ]
     },
     "execution_count": 23,
     "metadata": {},
     "output_type": "execute_result"
    }
   ],
   "source": [
    "Video('converted_Films/Cosmos_War_of_the_Planets_formatOK.mp4')"
   ]
  },
  {
   "cell_type": "markdown",
   "metadata": {},
   "source": [
    "#### Last_man_on_earth_1964"
   ]
  },
  {
   "cell_type": "code",
   "execution_count": 24,
   "metadata": {},
   "outputs": [
    {
     "data": {
      "text/html": [
       "<video src=\"converted_Films/Last_man_on_earth_1964_formatOK.mp4\" controls  >\n",
       "      Your browser does not support the <code>video</code> element.\n",
       "    </video>"
      ],
      "text/plain": [
       "<IPython.core.display.Video object>"
      ]
     },
     "execution_count": 24,
     "metadata": {},
     "output_type": "execute_result"
    }
   ],
   "source": [
    "Video('converted_Films/Last_man_on_earth_1964_formatOK.mp4')"
   ]
  },
  {
   "cell_type": "markdown",
   "metadata": {},
   "source": [
    "#### The_Hill_Gang_Rides_Again"
   ]
  },
  {
   "cell_type": "code",
   "execution_count": 25,
   "metadata": {},
   "outputs": [
    {
     "data": {
      "text/html": [
       "<video src=\"converted_Films/The_Hill_Gang_Rides_Again_formatOK.mp4\" controls  >\n",
       "      Your browser does not support the <code>video</code> element.\n",
       "    </video>"
      ],
      "text/plain": [
       "<IPython.core.display.Video object>"
      ]
     },
     "execution_count": 25,
     "metadata": {},
     "output_type": "execute_result"
    }
   ],
   "source": [
    "Video('converted_Films/The_Hill_Gang_Rides_Again_formatOK.mp4')"
   ]
  },
  {
   "cell_type": "markdown",
   "metadata": {},
   "source": [
    "#### Voyage_to_the_Planet_of_Prehistoric_Women"
   ]
  },
  {
   "cell_type": "code",
   "execution_count": 26,
   "metadata": {},
   "outputs": [
    {
     "data": {
      "text/html": [
       "<video src=\"converted_Films/Voyage_to_the_Planet_of_Prehistoric_Women_formatOK.mp4\" controls  >\n",
       "      Your browser does not support the <code>video</code> element.\n",
       "    </video>"
      ],
      "text/plain": [
       "<IPython.core.display.Video object>"
      ]
     },
     "execution_count": 26,
     "metadata": {},
     "output_type": "execute_result"
    }
   ],
   "source": [
    "Video('converted_Films/Voyage_to_the_Planet_of_Prehistoric_Women_formatOK.mp4')"
   ]
  }
 ],
 "metadata": {
  "kernelspec": {
   "display_name": "Python 3 (ipykernel)",
   "language": "python",
   "name": "python3"
  },
  "language_info": {
   "codemirror_mode": {
    "name": "ipython",
    "version": 3
   },
   "file_extension": ".py",
   "mimetype": "text/x-python",
   "name": "python",
   "nbconvert_exporter": "python",
   "pygments_lexer": "ipython3",
   "version": "3.9.12"
  }
 },
 "nbformat": 4,
 "nbformat_minor": 4
}
